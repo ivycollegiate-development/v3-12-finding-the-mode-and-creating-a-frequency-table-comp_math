{
 "cells": [
  {
   "cell_type": "code",
   "execution_count": null,
   "metadata": {},
   "outputs": [],
   "source": [
    "def create_frequency_table(data):\n",
    "'''\n",
    "Create a frequency table from a list of data\n",
    "Args:\n",
    "    data (List): Input list of values\n",
    "\n",
    "Returns:\n",
    "    dict: A dictionary with values as keys and their frequencies as values\n",
    "'''    \n",
    "\n",
    "# Use the Counter function to count the occurences of each unique value    \n",
    "    frequency_table = Counter(data)\n",
    "\n",
    "# Return the frequency table as a dictionary\n",
    "    return dict(frequency_table)\n",
    "\n",
    "# Ages as input\n",
    "# List 1: Student Ages\n",
    "ages = [18, 19, 20, 18, 21, 19, 20, 22, 18, 19, 20, 21, 22, 18, 20]\n",
    "\n",
    "# List 2: Exam Scores\n",
    "scores = [85, 92, 78, 90, 85, 88, 92, 79, 85, 90, 86, 92, 88]\n",
    "\n",
    "# Printing frequencies\n",
    "# Creates a counter object to count the occurances\n",
    "age_counter = Counter(ages)\n",
    "\n",
    "print(\"Age Frequencies:\")\n",
    "for age, count in age_counter.most_common():\n",
    "    print(f\"Age {age}: {count} times\")\n"
   ]
  }
 ],
 "metadata": {
  "kernelspec": {
   "display_name": "Python 3",
   "language": "python",
   "name": "python3"
  },
  "language_info": {
   "name": "python",
   "version": "3.12.1"
  }
 },
 "nbformat": 4,
 "nbformat_minor": 2
}
