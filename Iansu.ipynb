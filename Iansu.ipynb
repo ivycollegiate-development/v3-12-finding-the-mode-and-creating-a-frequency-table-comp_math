{
 "cells": [
  {
   "cell_type": "code",
   "execution_count": null,
   "metadata": {},
   "outputs": [],
   "source": [
    "for collections import Counter"
   ]
  },
  {
   "cell_type": "code",
   "execution_count": 2,
   "metadata": {},
   "outputs": [
    {
     "ename": "NameError",
     "evalue": "name 'Counter' is not defined",
     "output_type": "error",
     "traceback": [
      "\u001b[0;31m---------------------------------------------------------------------------\u001b[0m",
      "\u001b[0;31mNameError\u001b[0m                                 Traceback (most recent call last)",
      "Cell \u001b[0;32mIn[2], line 11\u001b[0m\n\u001b[1;32m      8\u001b[0m \u001b[38;5;66;03m# List 2: Exam Scores\u001b[39;00m\n\u001b[1;32m      9\u001b[0m scores \u001b[38;5;241m=\u001b[39m [\u001b[38;5;241m85\u001b[39m, \u001b[38;5;241m92\u001b[39m, \u001b[38;5;241m78\u001b[39m, \u001b[38;5;241m90\u001b[39m, \u001b[38;5;241m85\u001b[39m, \u001b[38;5;241m88\u001b[39m, \u001b[38;5;241m92\u001b[39m, \u001b[38;5;241m79\u001b[39m, \u001b[38;5;241m85\u001b[39m, \u001b[38;5;241m90\u001b[39m, \u001b[38;5;241m86\u001b[39m, \u001b[38;5;241m92\u001b[39m, \u001b[38;5;241m88\u001b[39m]\n\u001b[0;32m---> 11\u001b[0m age_counter \u001b[38;5;241m=\u001b[39m \u001b[43mCounter\u001b[49m(ages)\n\u001b[1;32m     12\u001b[0m \u001b[38;5;28;01mdef\u001b[39;00m \u001b[38;5;21mexam_score_analysis\u001b[39m(data):\n\u001b[1;32m     13\u001b[0m     \u001b[38;5;66;03m# Counter object creation\u001b[39;00m\n\u001b[1;32m     14\u001b[0m     score_counter \u001b[38;5;241m=\u001b[39m Counter(data)\n",
      "\u001b[0;31mNameError\u001b[0m: name 'Counter' is not defined"
     ]
    }
   ],
   "source": [
    "def create_frequency_table(data):\n",
    "    frequency_table = Counter(data)\n",
    "    return dict(frequency_table)\n",
    "\n",
    "# List 1: Student Ages\n",
    "ages = [18, 19, 20, 18, 21, 19, 20, 22, 18, 19, 20, 21, 22, 18, 20]\n",
    "\n",
    "# List 2: Exam Scores\n",
    "scores = [85, 92, 78, 90, 85, 88, 92, 79, 85, 90, 86, 92, 88]\n",
    "\n",
    "age_counter = Counter(ages)\n",
    "def exam_score_analysis(data):\n",
    "    # Counter object creation\n",
    "    score_counter = Counter(data)\n",
    "\n",
    "print(\"Age_Frequencies:\")\n",
    "for age, count in age_counter.most_common():\n",
    "    print(f\"Age{age}:{count} times\")\n",
    "\n",
    "frequency_table, top_scores = exam_score_analysis(scores)\n",
    "print(\"\\n Top 3 Scores\")\n",
    "for score, count in top_scores:\n",
    "    print(f\"Score {score}: {count} times\")\n",
    "\n",
    "top_3_scores = score_counter.most_common(3)\n",
    "return score_counter, top_3_scores\n"
   ]
  }
 ],
 "metadata": {
  "kernelspec": {
   "display_name": "Python 3",
   "language": "python",
   "name": "python3"
  },
  "language_info": {
   "codemirror_mode": {
    "name": "ipython",
    "version": 3
   },
   "file_extension": ".py",
   "mimetype": "text/x-python",
   "name": "python",
   "nbconvert_exporter": "python",
   "pygments_lexer": "ipython3",
   "version": "3.12.1"
  }
 },
 "nbformat": 4,
 "nbformat_minor": 2
}
