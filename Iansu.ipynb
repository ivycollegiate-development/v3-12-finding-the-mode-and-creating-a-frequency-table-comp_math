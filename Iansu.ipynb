{
 "cells": [
  {
   "cell_type": "code",
   "execution_count": 4,
   "metadata": {},
   "outputs": [],
   "source": [
    "from collections import Counter"
   ]
  },
  {
   "cell_type": "code",
   "execution_count": 5,
   "metadata": {},
   "outputs": [
    {
     "name": "stdout",
     "output_type": "stream",
     "text": [
      "Age_Frequencies:\n",
      "Age18:4 times\n",
      "Age20:4 times\n",
      "Age19:3 times\n",
      "Age21:2 times\n",
      "Age22:2 times\n",
      "\n",
      " Top 3 Scores\n",
      "Score 85: 3 times\n",
      "Score 92: 3 times\n",
      "Score 90: 2 times\n"
     ]
    },
    {
     "ename": "NameError",
     "evalue": "name 'score_counter' is not defined",
     "output_type": "error",
     "traceback": [
      "\u001b[0;31m---------------------------------------------------------------------------\u001b[0m",
      "\u001b[0;31mNameError\u001b[0m                                 Traceback (most recent call last)",
      "Cell \u001b[0;32mIn[5], line 27\u001b[0m\n\u001b[1;32m     24\u001b[0m \u001b[38;5;28;01mfor\u001b[39;00m score, count \u001b[38;5;129;01min\u001b[39;00m top_scores:\n\u001b[1;32m     25\u001b[0m     \u001b[38;5;28mprint\u001b[39m(\u001b[38;5;124mf\u001b[39m\u001b[38;5;124m\"\u001b[39m\u001b[38;5;124mScore \u001b[39m\u001b[38;5;132;01m{\u001b[39;00mscore\u001b[38;5;132;01m}\u001b[39;00m\u001b[38;5;124m: \u001b[39m\u001b[38;5;132;01m{\u001b[39;00mcount\u001b[38;5;132;01m}\u001b[39;00m\u001b[38;5;124m times\u001b[39m\u001b[38;5;124m\"\u001b[39m)\n\u001b[0;32m---> 27\u001b[0m top_3_scores \u001b[38;5;241m=\u001b[39m \u001b[43mscore_counter\u001b[49m\u001b[38;5;241m.\u001b[39mmost_common(\u001b[38;5;241m3\u001b[39m)\n\u001b[1;32m     28\u001b[0m \u001b[38;5;28;01mreturn\u001b[39;00m score_counter, top_3_scores\n",
      "\u001b[0;31mNameError\u001b[0m: name 'score_counter' is not defined"
     ]
    }
   ],
   "source": [
    "\n",
    "def create_frequency_table(data):\n",
    "    frequency_table = Counter(data)\n",
    "    return dict(frequency_table)\n",
    "\n",
    "# List 1: Student Ages\n",
    "ages = [18, 19, 20, 18, 21, 19, 20, 22, 18, 19, 20, 21, 22, 18, 20]\n",
    "\n",
    "# List 2: Exam Scores\n",
    "scores = [85, 92, 78, 90, 85, 88, 92, 79, 85, 90, 86, 92, 88]\n",
    "\n",
    "age_counter = Counter(ages)\n",
    "def exam_score_analysis(data):\n",
    "    # Counter object creation\n",
    "    score_counter = Counter(data)\n",
    "    top_3_scores = score_counter.most_common(3)\n",
    "    return score_counter, top_3_scores\n",
    "\n",
    "print(\"Age_Frequencies:\")\n",
    "for age, count in age_counter.most_common():\n",
    "    print(f\"Age{age}:{count} times\")\n",
    "\n",
    "frequency_table, top_scores = exam_score_analysis(scores)\n",
    "print(\"\\n Top 3 Scores\")\n",
    "for score, count in top_scores:\n",
    "    print(f\"Score {score}: {count} times\")\n",
    "\n",
    "top_3_scores = score_counter.most_common(3)\n",
    "return score_counter, top_3_scores\n"
   ]
  }
 ],
 "metadata": {
  "kernelspec": {
   "display_name": "Python 3",
   "language": "python",
   "name": "python3"
  },
  "language_info": {
   "codemirror_mode": {
    "name": "ipython",
    "version": 3
   },
   "file_extension": ".py",
   "mimetype": "text/x-python",
   "name": "python",
   "nbconvert_exporter": "python",
   "pygments_lexer": "ipython3",
   "version": "3.12.1"
  }
 },
 "nbformat": 4,
 "nbformat_minor": 2
}
