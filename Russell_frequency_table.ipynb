{
 "cells": [
  {
   "cell_type": "code",
   "execution_count": 1,
   "metadata": {},
   "outputs": [],
   "source": [
    "from collections import Counter\n"
   ]
  },
  {
   "cell_type": "code",
   "execution_count": 3,
   "metadata": {},
   "outputs": [
    {
     "name": "stdout",
     "output_type": "stream",
     "text": [
      "Age Frequencies:\n",
      "Age 18: 4 times\n",
      "Age 20: 4 times\n",
      "Age 19: 3 times\n",
      "Age 21: 2 times\n",
      "Age 22: 2 times\n"
     ]
    },
    {
     "ename": "TypeError",
     "evalue": "cannot unpack non-iterable NoneType object",
     "output_type": "error",
     "traceback": [
      "\u001b[0;31m---------------------------------------------------------------------------\u001b[0m",
      "\u001b[0;31mTypeError\u001b[0m                                 Traceback (most recent call last)",
      "Cell \u001b[0;32mIn[3], line 45\u001b[0m\n\u001b[1;32m     38\u001b[0m \u001b[38;5;124;03m\"\"\"TODO \u001b[39;00m\n\u001b[1;32m     39\u001b[0m \u001b[38;5;124;03mCreate a frequency table for the exam scores list that shows:\u001b[39;00m\n\u001b[1;32m     40\u001b[0m \u001b[38;5;124;03mThe number of times each score appears\u001b[39;00m\n\u001b[1;32m     41\u001b[0m \u001b[38;5;124;03mThe top 3 most common scores\u001b[39;00m\n\u001b[1;32m     42\u001b[0m \u001b[38;5;124;03m\"\"\"\u001b[39;00m\n\u001b[1;32m     44\u001b[0m \u001b[38;5;66;03m#Analyze the exam scores\u001b[39;00m\n\u001b[0;32m---> 45\u001b[0m frequency_table, top_scores \u001b[38;5;241m=\u001b[39m exam_score_analysis(scores)\n\u001b[1;32m     46\u001b[0m \u001b[38;5;28mprint\u001b[39m(\u001b[38;5;124m\"\u001b[39m\u001b[38;5;130;01m\\n\u001b[39;00m\u001b[38;5;124m Top 3 Scores\u001b[39m\u001b[38;5;124m\"\u001b[39m)\n\u001b[1;32m     47\u001b[0m \u001b[38;5;28;01mfor\u001b[39;00m score, count \u001b[38;5;129;01min\u001b[39;00m top_scores:\n",
      "\u001b[0;31mTypeError\u001b[0m: cannot unpack non-iterable NoneType object"
     ]
    }
   ],
   "source": [
    "def create_frequency_table(data):\n",
    "    '''\n",
    "    Create a frequency table from a list of data\n",
    "    Args:\n",
    "        data (List): Input list of values\n",
    "\n",
    "    Returns:\n",
    "        dict: A dictionary with values as keys and their frequencies as values\n",
    "    '''    \n",
    "\n",
    "# Use the Counter function to count the occurences of each unique value    \n",
    "    frequency_table = Counter(data)\n",
    "\n",
    "# Return the frequency table as a dictionary\n",
    "    return dict(frequency_table)\n",
    "\n",
    "def exam_score_analysis(data):\n",
    "    # Counter object creation\n",
    "    score_counter = Counter(data)\n",
    "\n",
    "\n",
    "\n",
    "# Ages as input\n",
    "# List 1: Student Ages\n",
    "ages = [18, 19, 20, 18, 21, 19, 20, 22, 18, 19, 20, 21, 22, 18, 20]\n",
    "\n",
    "# List 2: Exam Scores\n",
    "scores = [85, 92, 78, 90, 85, 88, 92, 79, 85, 90, 86, 92, 88]\n",
    "\n",
    "# Printing frequencies\n",
    "# Creates a counter object to count the occurances\n",
    "age_counter = Counter(ages)\n",
    "\n",
    "print(\"Age Frequencies:\")\n",
    "for age, count in age_counter.most_common():\n",
    "    print(f\"Age {age}: {count} times\")\n",
    "\n",
    "\"\"\"TODO \n",
    "Create a frequency table for the exam scores list that shows:\n",
    "The number of times each score appears\n",
    "The top 3 most common scores\n",
    "\"\"\"\n",
    "\n",
    "#Analyze the exam scores\n",
    "frequency_table, top_scores = exam_score_analysis(scores)\n",
    "print(\"\\n Top 3 Scores\")\n",
    "for score, count in top_scores:\n",
    "    print(f\"Score {score}: {count} times\")\n",
    "\n",
    "#Top 3 Common scores\n",
    "top_3_scores = score_counter.most_common(3)\n",
    "\n",
    "return score_counter, top_3_scores"
   ]
  }
 ],
 "metadata": {
  "kernelspec": {
   "display_name": "Python 3",
   "language": "python",
   "name": "python3"
  },
  "language_info": {
   "codemirror_mode": {
    "name": "ipython",
    "version": 3
   },
   "file_extension": ".py",
   "mimetype": "text/x-python",
   "name": "python",
   "nbconvert_exporter": "python",
   "pygments_lexer": "ipython3",
   "version": "3.12.1"
  }
 },
 "nbformat": 4,
 "nbformat_minor": 2
}
